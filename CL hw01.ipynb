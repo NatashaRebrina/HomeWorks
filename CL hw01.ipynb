{
 "cells": [
  {
   "cell_type": "markdown",
   "id": "44d89619-7257-407b-af38-3d1a2230a76d",
   "metadata": {},
   "source": [
    "#### Задача 1. \n",
    "\n",
    "Дано трехзначное число. Найдите сумму его цифр."
   ]
  },
  {
   "cell_type": "code",
   "execution_count": 1,
   "id": "ba1d9a4e",
   "metadata": {},
   "outputs": [
    {
     "name": "stdout",
     "output_type": "stream",
     "text": [
      "11\n"
     ]
    }
   ],
   "source": [
    "num = int (input('Введите число'))\n",
    "a = num // 100\n",
    "b = num // 10 % 10\n",
    "c = num % 10\n",
    "print(a + b + c)"
   ]
  },
  {
   "cell_type": "markdown",
   "id": "2622f3fc-a9cb-4392-99ae-a31dff5674b4",
   "metadata": {},
   "source": [
    "#### Задача 2.\n",
    "\n",
    "Процентная ставка по вкладу составляет P процентов годовых, которые прибавляются к сумме вклада. Вклад составляет X рублей Y копеек. Определите размер вклада через год.\n",
    "Программа получает на вход целые числа P, X, Y и должна вывести два числа: величину вклада через год в рублях и копейках. Дробная часть копеек отбрасывается."
   ]
  },
  {
   "cell_type": "code",
   "execution_count": 11,
   "id": "c2433fdf",
   "metadata": {},
   "outputs": [
    {
     "name": "stdout",
     "output_type": "stream",
     "text": [
      "Величина вклада через год составит 1120 рублей 56 копеек\n"
     ]
    }
   ],
   "source": [
    "p = int(input('Процент годовых'))\n",
    "x = int(input('Размер вклада ... рублей'))\n",
    "y = int(input('Размер вклада ... копеек'))\n",
    "sum = x * 100 + x * p + y + y * p // 100\n",
    "print ('Величина вклада через год составит', sum // 100, 'рублей', sum % 100, 'копеек')"
   ]
  },
  {
   "cell_type": "markdown",
   "id": "a86607c1-be2d-42ec-bf21-f09d7a65295f",
   "metadata": {
    "tags": []
   },
   "source": [
    "#### Задача 3.\n",
    "\n",
    "В первый день спортсмен пробежал x километров, а затем он каждый день увеличивал пробег на 70% от предыдущего значения. По данному числу y определите номер дня, на который пробег спортсмена составит не менее y километров.\n",
    "\n",
    "На вход программа получает два числа x и y. Числа положительные, действительные, не превосходят 1000.\n",
    "\n",
    "Программа должна вывести единственное целое число.\n",
    "\n",
    "Для проверки:\n",
    "\n",
    "|Ввод|Вывод|\n",
    "|:-:|:-:|\n",
    "|10 30|4|"
   ]
  },
  {
   "cell_type": "code",
   "execution_count": 3,
   "id": "112c1d15",
   "metadata": {},
   "outputs": [
    {
     "name": "stdout",
     "output_type": "stream",
     "text": [
      "4\n"
     ]
    }
   ],
   "source": [
    "x = int(input('Пробег в первый день'))\n",
    "y = int(input('Пробег в последний день'))\n",
    "a = 1\n",
    "while x < y:\n",
    "    x = x * 1.7\n",
    "    a = a + 1\n",
    "print(a)"
   ]
  },
  {
   "cell_type": "markdown",
   "id": "f4d2ecff-c586-4592-8913-370a80fe69cf",
   "metadata": {},
   "source": [
    "#### Задача 4. \n",
    "\n",
    "В первый день спортсмент пробежал x километров, а затем он каждый день увеличивал пробег на 70% от предыдущего значения.\n",
    "\n",
    "По данному числу y определите номер дня, на который суммарный пробег спортсмена составит не менее y километров.\n",
    "\n",
    "На вход программа получает два числа x и y. Числа положительные, действительные, не превосходят 1000.\n",
    "\n",
    "Программа должна вывести единственное целое число.\n",
    "\n",
    "Для проверки:\n",
    "\n",
    "|Ввод|Вывод|\n",
    "|:-:|:-:|\n",
    "|10 100|4|"
   ]
  },
  {
   "cell_type": "code",
   "execution_count": 4,
   "id": "1a2c7d87-c45c-4e70-ac1a-2d312ee6f6e7",
   "metadata": {},
   "outputs": [
    {
     "name": "stdout",
     "output_type": "stream",
     "text": [
      "4\n"
     ]
    }
   ],
   "source": [
    "x = int(input('Пробег в первый день'))\n",
    "y = int(input('Пробег в последний день'))\n",
    "a = 1\n",
    "while x < y:\n",
    "    x = x + x * 1.7\n",
    "    a = a + 1\n",
    "print(a)"
   ]
  },
  {
   "cell_type": "markdown",
   "id": "b5c60b82-4650-43a6-849f-5d3dfa824eef",
   "metadata": {},
   "source": [
    "#### Задача 5.\n",
    "\n",
    "Числа Фибоначчи (простые). Вводится целое число: с помощью формулы выведите число Фибоначчи с этим номером. "
   ]
  },
  {
   "cell_type": "code",
   "execution_count": 11,
   "id": "8d9bdcf8-208c-402d-b66e-1912dda40716",
   "metadata": {},
   "outputs": [
    {
     "name": "stdout",
     "output_type": "stream",
     "text": [
      "8\n"
     ]
    }
   ],
   "source": [
    "x = int(input('Введите число'))\n",
    "f1 = 0\n",
    "f2 = 1\n",
    "n = 2\n",
    "while n < x:\n",
    "    sum = f1 + f2\n",
    "    f1 = f2\n",
    "    f2 = sum\n",
    "    n = n + 1\n",
    "print (f2)\n"
   ]
  },
  {
   "cell_type": "markdown",
   "id": "c7894552-3463-4643-af27-7de4e8a5a327",
   "metadata": {},
   "source": [
    "#### Задача 6.\n",
    "\n",
    "Напишите программу, которая на вход принимает число секунд и возвращает его в часах, минутах и секундах в формате HH:MM:SS. "
   ]
  },
  {
   "cell_type": "code",
   "execution_count": 9,
   "id": "98ff7e6b-5672-4ca6-8aa5-5333b555258b",
   "metadata": {},
   "outputs": [
    {
     "name": "stdout",
     "output_type": "stream",
     "text": [
      "34:17:47\n"
     ]
    }
   ],
   "source": [
    "num = int(input('Введите число'))\n",
    "s = num % 60\n",
    "m = num // 60 % 60\n",
    "h = num // 3600\n",
    "print(h % 100, m % 100, s % 100, sep = ':')"
   ]
  },
  {
   "cell_type": "markdown",
   "id": "81d0f22d-f06d-4168-8b86-a13dc17c05ae",
   "metadata": {},
   "source": [
    "Для чтения:\n",
    "\n",
    "1. [М. Саммерфилд](https://drive.google.com/file/d/1VXoXN5Cl2GxfgYkuKFzVFRwltQnPGYol/view?usp=sharing). 2 глава, до строк. \n",
    "2. [М. Лутц](https://drive.google.com/file/d/1oTnJq_jl7QEe1AQVBirJr2Oen_XQxS59/view?usp=sharing). 1 часть. \n",
    "3. [Мануал по Github](https://github.com/rsuh-python/mag2022/blob/main/Github_Manual.pdf). \n",
    "\n",
    "Также можно дополнительно на Википедии почитать про машинный ноль, про хэш-функции и хэш-таблицы (это для общего развития). "
   ]
  }
 ],
 "metadata": {
  "kernelspec": {
   "display_name": "Python 3.9.13 64-bit",
   "language": "python",
   "name": "python3"
  },
  "language_info": {
   "codemirror_mode": {
    "name": "ipython",
    "version": 3
   },
   "file_extension": ".py",
   "mimetype": "text/x-python",
   "name": "python",
   "nbconvert_exporter": "python",
   "pygments_lexer": "ipython3",
   "version": "3.9.13"
  },
  "vscode": {
   "interpreter": {
    "hash": "aee8b7b246df8f9039afb4144a1f6fd8d2ca17a180786b69acc140d282b71a49"
   }
  }
 },
 "nbformat": 4,
 "nbformat_minor": 5
}
